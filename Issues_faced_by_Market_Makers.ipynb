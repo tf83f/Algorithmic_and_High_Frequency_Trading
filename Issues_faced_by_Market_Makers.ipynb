{
 "cells": [
  {
   "cell_type": "markdown",
   "metadata": {},
   "source": [
    "# Issues faced by Market-Makers "
   ]
  },
  {
   "cell_type": "markdown",
   "metadata": {},
   "source": [
    "# Overview\n",
    "Market-Makers (MMs) facilitate trades (provide liquidity) and profit from making the spread. They do that by leveraging their execution skills and capacity to adapt to changing market conditions. There are a number of theories that explain what determines the spread in a competitive market. But before, we consider issues faced by someone willing to provide liquidity :\n",
    "-\tInventory risk (see Grossman-Miller model),\n",
    "-\tTrade-off between frequency and profit per trade (see measuring liquidity),\n",
    "-\tThe risk of better-informed traders against less-informed MMs (see trading on an information advantage-disadvantage)\n"
   ]
  },
  {
   "cell_type": "markdown",
   "metadata": {},
   "source": [
    "# Grossman-Miller Market Making model \n",
    "This model describes how MMs obtain a liquidity premium from liquidity traders (LTs) that exactly compensates MMs for the price risk of holding an inventory of the asset until they can unload it later to another liquidity trader.\n",
    "\n",
    "It is assumed that all participants (MMs and LTs) are risk averse. They have an expected utility for the future random cash value of the asset, with ($\\gamma$) capturing the utility penalty for taking risks (the risk aversion parameter). \n",
    "\n",
    "If LT wants to sell, trading occurs at a price (S) below the efficient price (U), the difference represents the liquidity discount the MMs receive in order to hold LT`s shares. However, if LT wants to buy, it will happens above the efficient price and MMs would receive a premium.\n",
    "\n",
    "Price efficienty represents how price incorporate all available information, this effeciency will be impacted by the microstructure. If there is no asset imbalance, aka, the price reflect its fundamental value (efficient price) no risk adverse MMs will want to hold the asset. To change their mind they need a discount/premium. The size of the discount/premium is influenced by :\n",
    "- The liquidity shock  (I) (how many shares LT want to buy or sell).\n",
    "- The risk aversion ($\\gamma$) (reflected in the utility function of the future cash value)\n",
    "- The volatility of the asset ($\\sigma$) (the uncertainty of the future cash value of the asset)\n",
    "- The competition (N) (the number of MMs)\n",
    "\n",
    "All parameters (except competition) increase the difference between the trading price and the efficient price :\n",
    "\n",
    "$ | S – U | = | \\gamma \\sigma^{2} \\frac{I}{N + 1} | $\n",
    "\n",
    "As competition increases (N), the liquidity premium goes to zero, the trading price converge to the efficient level (S = U) and LT optimal initial net trade converges to his liquidity need (I).\n",
    "\n",
    "This framework helps to understand how the cost of holding assets (via the uncertainty it generates) affects liquidity via the cost of trading ( | S – U | ) and the demand for immediacy. Also adding trading fees in the model, we can see the impact on immediacy and the liquidity discount. \n",
    "\n",
    "Trading costs are paid by liquidity traders, whether explicitly (as their own trading fees) or implicitly in the price (greater liquidity discount when selling and larger premium when buying).\n",
    "$ | S – U | = | [ \\gamma \\sigma^{2} \\frac{I}{N + 1} ] + [ 2 C \\frac{N}{N + 1} ] | $ with C the cost per transaction.\n",
    "\n",
    "Reference : Grossman, Sanford J. & Merton H. Miller (1988), 'Liquidity and market structure', \n",
    "The Journal of Finance 43(3), 617-37."
   ]
  },
  {
   "cell_type": "markdown",
   "metadata": {},
   "source": [
    "# Measuring liquidity \n",
    "The discount/premium borne by LT is the difference between the average price received/paid (S) and the initial mid-price when the first MO hit the market (which is the usual proxy for the efficient price (U)).\n",
    "\n",
    "In Grossman-Miller we could rewrite (S) as a linear function of the quantity traded (Q)\n",
    "\n",
    "$ S = U + \\lambda Q$ with $\\lambda = - \\frac{1}{N}  \\gamma \\sigma^{2}$ and $Q = I * \\frac{N}{N + 1}$ \n",
    "\n",
    "The lambda parameter ($\\lambda$) captures the price impact of LT’s order, it’s market price impact. In other words, $\\lambda$ describes the liquidity of the market for the asset (lower $\\lambda$ means more liquid asset), either because of greater competition, lower risk tolerance, or lower volatility, all of which result in lower liquidity discount/premium for LT.\n",
    "\n",
    "\n",
    "The MM’s problem is to choose where on the limit order book (LOB) to place the limit order (LO) so as to maximize the profit per trade, optimally balancing the increase in the price per trade received as he increase the distance of the LO from the mid-price with the frequency with which he will trade, which decreases with the distance from the mid-price. To maximize it, the depth from the mid-price is $\\pm \\frac{1}{k}$ with K the parameters of the exponential distribution of other LOs on the LOB. In other words the optimal depth is equal to the mean depth in the LOB.\n"
   ]
  },
  {
   "cell_type": "markdown",
   "metadata": {},
   "source": [
    "# Trading on information advantage-disadvantage \n",
    "The main challenge is how to exploit an information advantage while taking into account one`s price impact. Unlike in Grossman-Miller model where MMs are risk-adverse, in Kyle model (1985) MMs are risk-neutral, so there won’t be a liquidity premium to compensate for the risk price. In this model the liquidity premium (paid by the price insensitive liquidity traders) will come from the need to compensate MMs for their information disadvantages.\n",
    "\n",
    "As MMs set the market price as a function of net order flow $S(x+u)$ (with (x) the order flow from informed traders and (u) the order flow from liquidity traders) prices are affected by the order flow and trading always generate a price impact.\n",
    "\n",
    "Because we suppose that MMs are risk-neutral and their profits are competed away, the zero (expected) profit forces prices to have the property that $S = E[V|F]$ where F is represents all information available to MMs.\n",
    "\n",
    "In that end $S(x+u) = E[V|x+u] = U + \\lambda (x+u)$ with U the mean of the random price of the asset (aka the efficient price in Grossman-Miller model) and lambda ($\\lambda$) = std of the price of the asset / ( 2 * std of the demand of liquidity trader).\n",
    "\n",
    "The presence of informed traders implies that  MMs will be adversely selected.  This adverse selection requires a premium that takes the form of price adjustment to order flow (price impact) as described by Kyle’s lambda ($\\lambda$). The sign of the lambda ($\\lambda$) is the same in Grossman-Miller and Kyle model, prices move with the order flow, increasing as buy MOs hit the market and vice-versa.\n",
    "\n",
    "This premium account not for the risk that future price movements will be random (like in Grossman-Miller model), but for the adverse selection faced by MMs, as prices will on average move against the MMs position because they trade with better informed traders in the market.\n",
    "\n",
    "The Kyle model focuses on the informed trader’s problem, while using competition to characterize the MMs, decision. Alternatively Glosten & Milgrom (1985) have established a model that put MM’s at the center.\n",
    "\n",
    "References : \n",
    "\n",
    "Kyle, Albert S. (1985), 'Continuous auctions and insider trading', Econometrica 53, 1315-1335. \n",
    "\n",
    "Glosten, Lawrence R. & Paul R. Milgrom (1985), 'Bid, ask and transaction prices in a specialist market with heterogeneously informed traders', Journal of Financial Economics 14(1), 71-100. \n",
    "\n"
   ]
  }
 ],
 "metadata": {
  "language_info": {
   "name": "python"
  }
 },
 "nbformat": 4,
 "nbformat_minor": 2
}
