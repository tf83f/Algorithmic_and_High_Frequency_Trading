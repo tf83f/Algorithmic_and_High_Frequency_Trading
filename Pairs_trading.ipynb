{
 "cells": [
  {
   "cell_type": "markdown",
   "metadata": {},
   "source": [
    "# Pairs trading and statistical arbitrage\n",
    "Predictions of the price of a single stock are generally less acccurate than the prediction of a portfolio of stocks, this is why we often use pair trading where a portfolio consisting of a linear combination of two assets is traded. We go long when the portfolioo is hceap and closing out the position when the portfolio's value increase, or going  short when the portfolio is dear and closing the position when the portfolio's value decreases. We can detemrine the ratio of each stocck in the portfolio whith cointegration."
   ]
  },
  {
   "cell_type": "markdown",
   "metadata": {},
   "source": [
    "# Ad hoc bands\n",
    "A simple strategy to profit from co-integration factor's mean-reversion is to place bands which are one standard deviation above and below the mean-reverting level and buy one unit of the portfolio if the lower band is hit or sell ine unit of the portfolio if the upper band is hit. To close the position the strategy waits for the value of the portfolio to be within say 1/10 standard deviation of the mean-reverting level of the cointegration factor and at that point the agent liquidates the position.\n",
    "\n",
    "There is no guarantee by the strategy, we could enter a position which never revert. The wider the trigger bands, the more likely it is to end with inventory. Also while wider bands have larger profit when the position closes out, the co-integration factor makes fewer outer-inner band transition when the band size increases. \n",
    "\n",
    "The sharp increases, then start decreasing as bands increase. For large band, the distribution of PnL is multimodal, but in fact all are multimodal. This is beccause the profit from closing out a long short position equals approximately the band size, and the PnL is concentrated near integer multiples of the band size and the weight on a given multiple equals the probability of making round trip."
   ]
  },
  {
   "cell_type": "markdown",
   "metadata": {},
   "source": [
    "# Optimal band selection \n",
    "Here we determine the optimal strategy to enter and exit. The trader will make a single round trip trade and there is no terminal horizon. There is a portfolio whith A shares in one asset abdn B shares in another asset so that the portfolio dynamics are given by $\\epsilon_{t}$, which is the co-integration factor \n",
    "\n",
    "$d\\epsilon_{t} = k(\\theta - \\epsilon_{t})d_{t} + \\sigma dW_{t}$ with k the coefficient of mean reversion, $\\theta$ the level we mean revert to, and $\\sigma$ the volatility of the process\n",
    "\n",
    "We first determine the optimal time to exit a long position which maximizes $E[e^{-\\rho(T-t)}(\\epsilon_{t}-c)]$ where c is a transaction cost and $\\rho$ the discount factor. Akin to an urgency parameter since increasing $\\rho$ will push the exit boundary in towards the long-run level. As the mean-reversion rate increases, the optimal trigger levels decreases since the co-integration factor is frawn more strongly to the mean-reversion level. Similarly as the discount rate increases, the trigger levels decrease to draw the stopping time nearer since futures gains are discounted more.\n",
    "\n",
    "Now for the optimal entry problem, the value fucntion should be decreasing in $\\epsilon$ because suppose that  $\\epsilon < \\theta$ i.e the co-integration portfolio value is currenlty less than its long-run level, then as $\\epsilon$ increases, if the agent enters into a long position, he will extract less value from it on the optimal exit point. As the mean reversion rate increases, the optimal trigger level increases (and move towards the mean reversion level) since the co-integration factor is drawn more strongly to the mean-reversion level. Similarly as discount rate increases the trigger lelve increases. Even with the same parameters, the optimal entry and exit price are not symmetric around the mean reversion level, because the entry and exit are ordered and the discount factor biases the entry closer to the mean. "
   ]
  },
  {
   "cell_type": "markdown",
   "metadata": {},
   "source": [
    "# Doubly sided optimal entry-exit\n",
    "\n",
    "We now consider the situation where we can long and short the portfolio. We note that $H_{+}$ and $H_{-}$ the entry function behave quite differently. Second the optimal exit point given by G are not symmetric around $\\theta$. Third the optimal entry points are in fact equal to the correspond optimal exit point from the opossite portfolio, the optimal entry point for the long portfolio equals the optimal exit point from the short position."
   ]
  },
  {
   "cell_type": "markdown",
   "metadata": {},
   "source": [
    "# Co-integrated log prices with short term alpha\n",
    "\n",
    "Another approach too derive trading algorithms that take advantage of structural dependencies between assets, is one where the drifts of a collection of asset are co-integragte, rather than the prices themselves. \n",
    "\n",
    "We have a collection of risky assets whose vector prices $Y (y_{t}^{1}, ... , y_{t}^{n} )$ satisfies $\\frac{dY_{t}^{k}}{Y_{t}^{k}} = \\epsilon_{k} \\alpha_{t} dt + \\sum_{i = 1}^{n} \\sigma_{k, i} dW_{t}^{i}$ where $\\alpha_{t} = \\alpha_{O} + \\sum_{i=1}^{n} \\alpha_{i} log Y_{t}^{i}$.\n",
    "\n",
    "The instantaneous covariance, loosely interpreted as $C[\\frac{dY_{t}^{k}}{Y_{t}^{k}},\\frac{dY_{t}^{j}}{Y_{t}^{j}}| F_{t} ]$ between assets i and j is given by $\\omega_{i, j} = \\sum_{k=1}^{n} \\theta_{i}^{k} \\theta_{k}^{j}$.\n",
    "\n",
    "$\\alpha_{t}$ acts as a co-integration factor, when $\\alpha = 0$ all assets are simply correlated geometric BM with zero drift and hence are martingales. In general, hwoever $\\alpha_{t}$ will be non-zeon representing short-term deviations from martingale behaviour and may also be considered as a short-term alpha components. $\\alpha_{t}$ is a co-integration factor as it is a mean reverting process $d\\alpha_{t} = k (\\theta - \\alpha_{t}) dt + a' \\sigma dW_{t}$ with $a = (a_{1}, ... , a_{n})'$, $k =  - \\sum_{k=1}^{n} a_{k} \\epsilon_{k} = - \\zeta' a $ and $\\sigma = \\frac{1}{2} \\frac{Tr(A\\omega)}{\\zeta'a}$ we see that the mean reversion level $\\sigma$ depends on the ratio of the volatility relative to the impact each component has on the assets.\n",
    "\n",
    "We let $\\pi = (\\pi_{t}^{0}, ... \\pi_{t}^{n})$ denote the dollar value invested in the riskless $\\pi_{t}^{0}$ and risky assets $(\\pi_{t}^{1}, ... \\pi_{t}^{n})$ and let $X^{\\pi}$ denotes the agent's controlled wealth process. With this convention the number of unit $m_{t}^{k}$ the agent holds in asset k is $m_{t}^{k} = \\frac{\\pi_{t}^{k}}{Y_{t}^{k}}$.\n",
    "\n",
    "We want to maximise $E_{t, x, y} [-e^{-\\gamma X_{T}^{\\pi}}]$\n",
    "\n",
    "$\\pi^{*} = \\frac{1}{\\gamma} ((\\omega^{-1}\\zeta)\\alpha + (\\zeta^{-1}\\omega\\zeta)[\\frac{1}{2}\\tau\\alpha + \\frac{1}{4} Tr(A\\omega)\\tau^{2}]\\alpha)$\n",
    "\n",
    "As a reminder, the first term is what you wouls expect from the classical Mertin problem since $\\zeta\\alpha$ are the drifts of the assets. The second term proportional to a represents the correction due to co-integration. The perturbation around the Merton portfolio decays as the terminal date approaches. That is the agent ignores the short term alpha effect when trading is coming to a close."
   ]
  }
 ],
 "metadata": {
  "language_info": {
   "name": "python"
  }
 },
 "nbformat": 4,
 "nbformat_minor": 2
}
